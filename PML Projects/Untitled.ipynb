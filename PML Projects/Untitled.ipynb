{
 "cells": [
  {
   "cell_type": "markdown",
   "metadata": {},
   "source": [
    "# Intro to ML \n",
    "\n",
    "* using Introduction to statistical learning by Gareth James as a companion book \n",
    "\n",
    "* free online\n",
    "\n",
    "* Mathmatical theroy from said book will be applied and read\n",
    "\n",
    "* What is ML? \n",
    "\n",
    "* method of data analysis that automates analytical model building. \n",
    "\n",
    "* using algorithms that iteratively learn from data, ML allows computers to find hidden insights without being explicitly programmed where to look.\n",
    "\n",
    "* used for but not limited to: \n",
    "    * Fraud detection, web search results, real time ads on webpages, credit scoring and next best offers, prediction of equipment failures, new pricing models, network intrusion detection, recommendation engines, customer segmentation, text, sentiment analysis, predicting  customer churn, pattern and imgage recognition, email spam filtering, financial modeling and more. \n",
    "    \n",
    "### ML process: \n",
    "\n",
    " * Data aquisition \n",
    " * data cleaning\n",
    " * model training&building/ test data, model testing, repeat as many times as necessary.\n",
    " * model deployment\n",
    " \n",
    "#### Threee types of ML Algorithms:\n",
    "* Supervised learning\n",
    "* unsupervised Learning\n",
    "* Reinforcement Learning\n",
    "\n",
    "\n",
    "##### Supervised Learning\n",
    "* you have labeled data and are trying to group together similar data points based off of features \n",
    "\n",
    "##### Unsupervised Learning\n",
    "* You have unlabeled data and are trying to group together similar points based off of features \n",
    "\n",
    "##### Reinforcement Learning\n",
    "* Algorithm learns to perform an action from experience.\n",
    "\n",
    "\n",
    "------------------------------------------------------------------\n",
    "##### Supervised Learning\n",
    "* supervised Learning algorithms are trained using Labeled examples such as an imput where the desired output is known.\n",
    "\n",
    "* For example a piece of equipment could have data points labeled either 'F' (failed) or 'R' (runs).\n",
    "\n",
    "* The Learning algorithm recieves a set of inputs along with the corresponding correct outputs and the algorithm learns by comparing its actual output with correct outputs to find errors.\n",
    "\n",
    "* it then modifies the model accordingly. \n",
    "\n",
    "\n",
    "* through methods like classification regression prediction and graidient boosting supervisied learning uses patterns to predict the values of the label on addtional unlabeled data.\n",
    "\n",
    "* supervised learning is commonly used in applications where historical predicts likely future events. \n",
    "\n",
    "* example can anticipate when credit card fraud transactions are likely to be fraudulent or when insurance customer is likely to file a claim.\n",
    "\n",
    "* Or it can attempt to predict the price of a house based on different features for houses for which we have historical price data. \n",
    "----------------------------------------------------------------------\n",
    "##### Unsupervised Learning\n",
    "\n",
    "* is used against data that has no historical labels \n",
    "\n",
    "* not told the 'right answer'. algorithm must figure out on it's own \n",
    "\n",
    "* goal is to explore the data and find some structure within. \n",
    "\n",
    "* can find the main attributes that spearate customer segments from each other.\n",
    "\n",
    "* popular techniques include self-organizing maps, nearest-neighbor mapping, k-means clustering and singular value decomposition.\n",
    "\n",
    "* these algorithms are also used to segment text topics, recommend items and identify data outliers.\n",
    "------------------------------------------------------------------------\n",
    "##### Reinforcement Learning\n",
    "* often used for robotics gaming and navigation. \n",
    "* with reinforcement learning , the algorithm discovers through trial and error which actions yiled the greatest rewards. \n",
    "* this type of learning has three primary components the agent (learner or decision maker), enviorment  (everything it interacts with) and actions (what the agent can do)\n",
    "\n",
    "* objective for the agent to choose actions that maximize the expected reward over a given amount of time. \n",
    "\n",
    "* agent will reach the goal much faster by following a good policy.\n",
    "\n",
    "* the goal is to learn the best policy.\n",
    "\n",
    "----------------------------------------------------------------------\n",
    "\n",
    "* for each algorithm or ML topic:\n",
    "    * reading assignment\n",
    "    * light overview of theory\n",
    "    * Domonstration Lecture with Python\n",
    "    * ML project assignment\n",
    "    * overview solution of said project.\n"
   ]
  },
  {
   "cell_type": "markdown",
   "metadata": {},
   "source": [
    "#  ML with Python\n",
    "\n",
    "* we will be using SciKit Learn package\n",
    "\n",
    "* Most popular ML package for python and has a lo of algorithms built-in. \n",
    "\n",
    "* install with conda install scikit-learn or pip install scikit-learn\n",
    "\n",
    "* basic structure of how to use scikt learn\n",
    "* but first quick review of ML process (...again):\n",
    "     * Data aquisition \n",
    "     * data cleaning\n",
    "     * model training&building/ test data, model testing, repeat as many times as necessary.\n",
    "     * model deployment\n",
    "     \n",
    "* Going over an example of the process to use SciKit Learn\n",
    "\n",
    "every algorithm in scikit-learn via an \"Estimator\" First you'll import the model, general form is:\n"
   ]
  },
  {
   "cell_type": "code",
   "execution_count": 1,
   "metadata": {},
   "outputs": [],
   "source": [
    "# from sklearn.family import Model\n",
    "# for example:\n",
    "import sklearn\n",
    "from sklearn.linear_model import LinearRegression "
   ]
  },
  {
   "cell_type": "markdown",
   "metadata": {},
   "source": [
    " * Estimator paramaters: all the params of an estimate can be set when it is instantiated, and have suitable default values.\n",
    " \n",
    " * you can use shift+tab in jupyter to check possible params. \n",
    " \n",
    " example:"
   ]
  },
  {
   "cell_type": "code",
   "execution_count": 2,
   "metadata": {},
   "outputs": [
    {
     "name": "stdout",
     "output_type": "stream",
     "text": [
      "LinearRegression(copy_X=True, fit_intercept=True, n_jobs=None, normalize=True)\n"
     ]
    }
   ],
   "source": [
    "model = LinearRegression(normalize= True)\n",
    "print(model)"
   ]
  },
  {
   "cell_type": "markdown",
   "metadata": {},
   "source": [
    "Once you have your model created with your parameters, it is time to fit your model on some data! \n",
    "\n",
    "But remember, we should split this data into a training set and a test set. "
   ]
  },
  {
   "cell_type": "code",
   "execution_count": 3,
   "metadata": {},
   "outputs": [],
   "source": [
    "import numpy as np "
   ]
  },
  {
   "cell_type": "code",
   "execution_count": 7,
   "metadata": {},
   "outputs": [
    {
     "data": {
      "text/plain": [
       "array([[0, 1],\n",
       "       [2, 3],\n",
       "       [4, 5],\n",
       "       [6, 7],\n",
       "       [8, 9]])"
      ]
     },
     "execution_count": 7,
     "metadata": {},
     "output_type": "execute_result"
    }
   ],
   "source": [
    "from sklearn.model_selection import train_test_split\n",
    "X,y = np.arange(10).reshape((5,2)),range(5)\n",
    "X"
   ]
  },
  {
   "cell_type": "code",
   "execution_count": 8,
   "metadata": {},
   "outputs": [
    {
     "data": {
      "text/plain": [
       "[0, 1, 2, 3, 4]"
      ]
     },
     "execution_count": 8,
     "metadata": {},
     "output_type": "execute_result"
    }
   ],
   "source": [
    "list(y)"
   ]
  },
  {
   "cell_type": "code",
   "execution_count": 9,
   "metadata": {},
   "outputs": [],
   "source": [
    "X_train,X_test,y_train,y_test=train_test_split(X,y,test_size=0.3)"
   ]
  },
  {
   "cell_type": "code",
   "execution_count": 10,
   "metadata": {},
   "outputs": [
    {
     "data": {
      "text/plain": [
       "array([[0, 1],\n",
       "       [8, 9],\n",
       "       [6, 7]])"
      ]
     },
     "execution_count": 10,
     "metadata": {},
     "output_type": "execute_result"
    }
   ],
   "source": [
    "X_train"
   ]
  },
  {
   "cell_type": "code",
   "execution_count": 11,
   "metadata": {},
   "outputs": [
    {
     "data": {
      "text/plain": [
       "[0, 4, 3]"
      ]
     },
     "execution_count": 11,
     "metadata": {},
     "output_type": "execute_result"
    }
   ],
   "source": [
    "y_train"
   ]
  },
  {
   "cell_type": "code",
   "execution_count": 12,
   "metadata": {},
   "outputs": [
    {
     "data": {
      "text/plain": [
       "array([[4, 5],\n",
       "       [2, 3]])"
      ]
     },
     "execution_count": 12,
     "metadata": {},
     "output_type": "execute_result"
    }
   ],
   "source": [
    "X_test"
   ]
  },
  {
   "cell_type": "code",
   "execution_count": 13,
   "metadata": {},
   "outputs": [
    {
     "data": {
      "text/plain": [
       "[2, 1]"
      ]
     },
     "execution_count": 13,
     "metadata": {},
     "output_type": "execute_result"
    }
   ],
   "source": [
    "y_test"
   ]
  },
  {
   "cell_type": "markdown",
   "metadata": {},
   "source": [
    "now that we have splt the data we can train/fit our model on the training data. \n",
    "\n",
    "this is done through the model.fit() method:"
   ]
  },
  {
   "cell_type": "code",
   "execution_count": 14,
   "metadata": {},
   "outputs": [
    {
     "data": {
      "text/plain": [
       "LinearRegression(copy_X=True, fit_intercept=True, n_jobs=None, normalize=True)"
      ]
     },
     "execution_count": 14,
     "metadata": {},
     "output_type": "execute_result"
    }
   ],
   "source": [
    "model.fit(X_train,y_train)"
   ]
  },
  {
   "cell_type": "markdown",
   "metadata": {},
   "source": [
    "* Now the model has been fit and trained on the training data.\n",
    "* The model is ready to predict labels our label or values on the test set! \n",
    "We get the predicted values using the predict method:"
   ]
  },
  {
   "cell_type": "code",
   "execution_count": 15,
   "metadata": {},
   "outputs": [],
   "source": [
    "predictions = model.predict(X_test)"
   ]
  },
  {
   "cell_type": "markdown",
   "metadata": {},
   "source": [
    "We can then evaluate our model by comparing our predictions to the correct values.\n",
    "\n",
    "the evaluation method depends on what sort of ML algorithm we are using (Regression, Classification, Clustering, etc.)\n",
    "\n",
    "Let's get a quick recap!\n",
    "\n",
    "Scikit-learn strives to have a uniform interface across all method and we'll see examples of these bellow.\n",
    "\n",
    "given a sciit-learn estimator object named model the following methods are availible. . .\n",
    "\n",
    "* Availible in ALL ESTIMATORS:\n",
    "    * model.fit() : fit training data.\n",
    "    * for supervised learning applications, this accepts two arguments: the data X and the labels y (e.g. mdeol.fit(X,y)).\n",
    "    * For unsupervised learning applications, this accepts only a single argument, the data X (e.g.model.fit(X)).\n",
    "    \n",
    "* Availible in supervised estimators:\n",
    "    * model.predict(): given a trained model, predict the label of a new set of data. this method accepts one arg, the new data X_new (e.g. model.predict(X_new)), and returns the learned label for each object in the array.\n",
    "    * model.predict_proba():For classification problems,some estimators also provde this method, which returns the probability that a new observation has each categorical label. in this case, the label with the highest probability is returned by model.predict(). \n",
    "    * model.score() : for classification or regression problems, most estimators implement a score method. Scores are between 0 and 1, with a larger score indicating a better fit. \n",
    "    \n",
    "* availible in unsupervised estimators\n",
    "    * model.predict() : predict labels in clustering algorithms. \n",
    "    * model.transform(): given an unsupervised model, transform new data into the new basis. This also accepts one argument X_new, and returns new representation of the data based on the unsupervised model. \n",
    "    * model.fit_transform() : some estimators implement this method, which more effectively performs a fit and transform on the same input data. \n",
    "    \n",
    "* How to choose and Algorithm \n",
    "    * Google scikit-learn algorithm cheat sheet. "
   ]
  },
  {
   "cell_type": "markdown",
   "metadata": {},
   "source": [
    "# Notation and simple matrix algebra\n",
    "\n",
    "Chosing notation is always a difficult task we'll adopt the same notational conventions of ESL. \n",
    "\n",
    "N represesent the number of distinct data points or or observations in sample.\n",
    "\n",
    "We will let P denote # of variables that are availible for use in making predictions. \n",
    "\n",
    "Example wage data set consists of 12 variables for 3000 people. N= 3000 observations and p=12 variables \n",
    "\n",
    "p might be quite large.\n",
    "\n",
    "we will let xij represent the value of the jth variabl for the Ith observation where i=1,2...,p. \"i\" will be used to index samples or observations (from 1 to n) and j will be used to index the variables (from 1to p). We let x denote a n*p matrix whose (i,j)th element is Xij. (page 10)  \n",
    "think of x as a spread sheat with n rows p cols\n",
    "\n",
    "rows of x = x1,x2,x3,...xn. \n",
    "\n",
    "i = rows \n",
    "n = # of rows\n",
    "\n",
    "j = cols \n",
    "\n",
    "p = # of cols"
   ]
  },
  {
   "cell_type": "markdown",
   "metadata": {},
   "source": [
    "y hat equals f hat times x. f hat represents the resulting prediction of y. F hat is often treated like a black box in the sense that one is not typically concerned with the exact form of f hat provided that it yields accurate predictions for Y. \n",
    "\n",
    "Accuracy of y hat as a prediction for y depends on two quantities.  reducible error and irreducable error. f hat will not be a perfect estimation for f, this will introduce some error. it is reducable because we can potentially improve f hats accuracy by using the most appropriate statistical learning technique to estimate f. Even if we had a perfect estimate, our predictions would still ahve some error in it. this is because Y is also a function of random error. therefore no matter how well we estimate f we cannot reduce the error by the random error varibale. this is the irreducable error. \n",
    "\n",
    "irreducable error is larger than 0 quantity mantain unmeasured variables that useful in predicting Y since we dont measure them f cannot use them for its prediction the quanityt error may also contain unmeasureable variation. \n"
   ]
  },
  {
   "cell_type": "markdown",
   "metadata": {},
   "source": [
    "## Supervised Learning Problem\n",
    "\n",
    "Starting point:\n",
    "    * Outcome measurement Y (also called dependent variable, response, target).\n",
    "    * vectorof p predictor measurement X (also called inputs, regressors, covaiates, features, independent variables).\n",
    "    * In the regression problem, Y is quantitive (e. price, blood pressure)\n",
    "    * in the classification problem, Y takes values in a finite, unordered set ( survived/ died, digit )-9, cancer class of tissue sample).\n",
    "    *  We have training data (x1,y1),....,(xn,yn). These are observations (examples, instances) of these measurements. \n",
    "\n",
    "on the basis of the traning data we would like to:\n",
    "* accurately predict unseen test cases\n",
    "* Understan which inputs affect the outcome, and how.\n",
    "* access the quality of our predictions and inferences.\n"
   ]
  },
  {
   "cell_type": "markdown",
   "metadata": {},
   "source": [
    "# Philosophy \n",
    "\n",
    "* it is important to understand the ideas behind the various techniques, in order to know how and when to use them.\n",
    "\n",
    "* one has to understand the simpler methods first in order to grasp the more sophisticated ones. \n",
    "\n",
    "* it is important to accurately assess the performance of a method, to know how well or how badly it is working. (simple often works as well as fancy does.)\n",
    "\n",
    "* this is an exciting reseearch area, having important applications in science, industry and finance. \n",
    "\n",
    "* statistical learning is a fundumental ingredient in the training of a modern data scientist. \n",
    "\n",
    "### Unsupervised learning\n",
    "\n",
    "* No outcome variable, jsut predictos measured on set of samples.\n",
    "\n",
    "* objective is more fuzzy- find groups of sample that behave similarly, find features that behave similarly, find linear combinations of features with the most variation. \n",
    "\n",
    "* difficult to know how well you are doing. \n",
    "\n",
    "* different from supervised learning, but can be usefula s a pre-processing step for supervised learning. \n",
    "\n",
    "\n",
    "#### The netflix prize\n",
    "\n",
    "* competition started in 2006, oct. training data is rating for 18k movies by 400k customers rating between 1 to 5.\n",
    "\n",
    "* Sparse training data - 98% missing.\n",
    "\n",
    "* objective to predicti the rating for a set of 1 million customer-movie pairs that are missing in training data. \n",
    "\n",
    "* original algorithm achieved a root MSE of 0.953. First team to achieve a 10% imporvement wins "
   ]
  },
  {
   "cell_type": "code",
   "execution_count": null,
   "metadata": {},
   "outputs": [],
   "source": []
  },
  {
   "cell_type": "code",
   "execution_count": null,
   "metadata": {},
   "outputs": [],
   "source": []
  },
  {
   "cell_type": "code",
   "execution_count": null,
   "metadata": {},
   "outputs": [],
   "source": []
  },
  {
   "cell_type": "code",
   "execution_count": null,
   "metadata": {},
   "outputs": [],
   "source": []
  },
  {
   "cell_type": "code",
   "execution_count": null,
   "metadata": {},
   "outputs": [],
   "source": []
  },
  {
   "cell_type": "code",
   "execution_count": null,
   "metadata": {},
   "outputs": [],
   "source": []
  },
  {
   "cell_type": "code",
   "execution_count": null,
   "metadata": {},
   "outputs": [],
   "source": []
  },
  {
   "cell_type": "code",
   "execution_count": null,
   "metadata": {},
   "outputs": [],
   "source": []
  },
  {
   "cell_type": "code",
   "execution_count": null,
   "metadata": {},
   "outputs": [],
   "source": []
  },
  {
   "cell_type": "code",
   "execution_count": null,
   "metadata": {},
   "outputs": [],
   "source": []
  },
  {
   "cell_type": "code",
   "execution_count": null,
   "metadata": {},
   "outputs": [],
   "source": []
  },
  {
   "cell_type": "code",
   "execution_count": null,
   "metadata": {},
   "outputs": [],
   "source": []
  },
  {
   "cell_type": "code",
   "execution_count": null,
   "metadata": {},
   "outputs": [],
   "source": []
  }
 ],
 "metadata": {
  "kernelspec": {
   "display_name": "Python 3",
   "language": "python",
   "name": "python3"
  },
  "language_info": {
   "codemirror_mode": {
    "name": "ipython",
    "version": 3
   },
   "file_extension": ".py",
   "mimetype": "text/x-python",
   "name": "python",
   "nbconvert_exporter": "python",
   "pygments_lexer": "ipython3",
   "version": "3.7.3"
  }
 },
 "nbformat": 4,
 "nbformat_minor": 2
}
