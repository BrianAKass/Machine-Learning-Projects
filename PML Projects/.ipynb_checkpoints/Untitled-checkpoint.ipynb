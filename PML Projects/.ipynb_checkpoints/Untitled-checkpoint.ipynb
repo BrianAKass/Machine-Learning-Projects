{
 "cells": [
  {
   "cell_type": "markdown",
   "metadata": {},
   "source": [
    "# Intro to ML \n",
    "\n",
    "* using Introduction to statistical learning by Gareth James as a companion book \n",
    "\n",
    "* free online\n",
    "\n",
    "* Mathmatical theroy from said book will be applied and read\n",
    "\n",
    "* What is ML? \n",
    "\n",
    "* method of data analysis that automates analytical model building. \n",
    "\n",
    "* using algorithms that iteratively learn from data, ML allows computers to find hidden insights without being explicitly programmed where to look.\n",
    "\n",
    "* used for but not limited to: \n",
    "    * Fraud detection, web search results, real time ads on webpages, credit scoring and next best offers, prediction of equipment failures, new pricing models, network intrusion detection, recommendation engines, customer segmentation, text, sentiment analysis, predicting  customer churn, pattern and imgage recognition, email spam filtering, financial modeling and more. \n",
    "    \n",
    "### ML process: \n",
    "\n",
    " * Data aquisition \n",
    " * data cleaning\n",
    " * model training&building/ test data, model testing, repeat as many times as necessary.\n",
    " * model deployment\n",
    " \n",
    "#### Threee types of ML Algorithms:\n",
    "* Supervised learning\n",
    "* unsupervised Learning\n",
    "* Reinforcement Learning\n",
    "\n",
    "\n",
    "##### Supervised Learning\n",
    "* you have labeled data and are trying to group together similar data points based off of features \n",
    "\n",
    "##### Unsupervised Learning\n",
    "* You have unlabeled data and are trying to group together similar points based off of features \n",
    "\n",
    "##### Reinforcement Learning\n",
    "* Algorithm learns to perform an action from experience.\n",
    "\n",
    "\n",
    "------------------------------------------------------------------\n",
    "##### Supervised Learning\n",
    "* supervised Learning algorithms are trained using Labeled examples such as an imput where the desired output is known.\n",
    "\n",
    "* For example a piece of equipment could have data points labeled either 'F' (failed) or 'R' (runs).\n",
    "\n",
    "* The Learning algorithm recieves a set of inputs along with the corresponding correct outputs and the algorithm learns by comparing its actual output with correct outputs to find errors.\n",
    "\n",
    "* it then modifies the model accordingly. \n",
    "\n",
    "\n",
    "* through methods like classification regression prediction and graidient boosting supervisied learning uses patterns to predict the values of the label on addtional unlabeled data.\n",
    "\n",
    "* supervised learning is commonly used in applications where historical predicts likely future events. \n",
    "\n",
    "* example can anticipate when credit card fraud transactions are likely to be fraudulent or when insurance customer is likely to file a claim.\n",
    "\n",
    "* Or it can attempt to predict the price of a house based on different features for houses for which we have historical price data. \n",
    "----------------------------------------------------------------------\n",
    "##### Unsupervised Learning\n",
    "\n",
    "* is used against data that has no historical labels \n",
    "\n",
    "* not told the 'right answer'. algorithm must figure out on it's own \n",
    "\n",
    "* goal is to explore the data and find some structure within. \n",
    "\n",
    "* can find the main attributes that spearate customer segments from each other.\n",
    "\n",
    "* popular techniques include self-organizing maps, nearest-neighbor mapping, k-means clustering and singular value decomposition.\n",
    "\n",
    "* these algorithms are also used to segment text topics, recommend items and identify data outliers.\n",
    "------------------------------------------------------------------------\n",
    "##### Reinforcement Learning\n",
    "* often used for robotics gaming and navigation. \n",
    "* with reinforcement learning , the algorithm discovers through trial and error which actions yiled the greatest rewards. \n",
    "* this type of learning has three primary components the agent (learner or decision maker), enviorment  (everything it interacts with) and actions (what the agent can do)\n",
    "\n",
    "* objective for the agent to choose actions that maximize the expected reward over a given amount of time. \n",
    "\n",
    "* agent will reach the goal much faster by following a good policy.\n",
    "\n",
    "* the goal is to learn the best policy.\n",
    "\n",
    "----------------------------------------------------------------------\n",
    "\n",
    "* for each algorithm or ML topic:\n",
    "    * reading assignment\n",
    "    * light overview of theory\n",
    "    * Domonstration Lecture with Python\n",
    "    * ML project assignment\n",
    "    * overview solution of said project.\n"
   ]
  },
  {
   "cell_type": "markdown",
   "metadata": {},
   "source": [
    "#  ML with Python\n",
    "\n",
    "* we will be using SciKit Learn package\n",
    "\n",
    "* Most popular ML package for python and has a lo of algorithms built-in. \n",
    "\n",
    "* install with conda install scikit-learn or pip install scikit-learn\n",
    "\n",
    "* basic structure of how to use scikt learn\n",
    "* but first quick review of ML process (...again):\n",
    "     * Data aquisition \n",
    "     * data cleaning\n",
    "     * model training&building/ test data, model testing, repeat as many times as necessary.\n",
    "     * model deployment\n",
    "     \n",
    "* Going over an example of the process to use SciKit Learn\n",
    "\n",
    "every algorithm in scikit-learn via an \"Estimator\" First you'll import the model, general form is:\n"
   ]
  },
  {
   "cell_type": "code",
   "execution_count": 1,
   "metadata": {},
   "outputs": [],
   "source": [
    "# from sklearn.family import Model\n",
    "# for example:\n",
    "import sklearn\n",
    "from sklearn.linear_model import LinearRegression "
   ]
  },
  {
   "cell_type": "markdown",
   "metadata": {},
   "source": [
    " * Estimator paramaters: all the params of an estimate can be set when it is instantiated, and have suitable default values.\n",
    " \n",
    " * you can use shift+tab in jupyter to check possible params. \n",
    " \n",
    " example:"
   ]
  },
  {
   "cell_type": "code",
   "execution_count": 2,
   "metadata": {},
   "outputs": [
    {
     "name": "stdout",
     "output_type": "stream",
     "text": [
      "LinearRegression(copy_X=True, fit_intercept=True, n_jobs=None, normalize=True)\n"
     ]
    }
   ],
   "source": [
    "model = LinearRegression(normalize= True)\n",
    "print(model)"
   ]
  },
  {
   "cell_type": "markdown",
   "metadata": {},
   "source": [
    "Once you have your model created with your parameters, it is time to fit your model on some data! \n",
    "\n",
    "But remember, we should split this data into a training set and a test set. "
   ]
  },
  {
   "cell_type": "code",
   "execution_count": 3,
   "metadata": {},
   "outputs": [],
   "source": [
    "import numpy as np "
   ]
  },
  {
   "cell_type": "code",
   "execution_count": 7,
   "metadata": {},
   "outputs": [
    {
     "data": {
      "text/plain": [
       "array([[0, 1],\n",
       "       [2, 3],\n",
       "       [4, 5],\n",
       "       [6, 7],\n",
       "       [8, 9]])"
      ]
     },
     "execution_count": 7,
     "metadata": {},
     "output_type": "execute_result"
    }
   ],
   "source": [
    "from sklearn.model_selection import train_test_split\n",
    "X,y = np.arange(10).reshape((5,2)),range(5)\n",
    "X"
   ]
  },
  {
   "cell_type": "code",
   "execution_count": 8,
   "metadata": {},
   "outputs": [
    {
     "data": {
      "text/plain": [
       "[0, 1, 2, 3, 4]"
      ]
     },
     "execution_count": 8,
     "metadata": {},
     "output_type": "execute_result"
    }
   ],
   "source": [
    "list(y)"
   ]
  },
  {
   "cell_type": "code",
   "execution_count": 9,
   "metadata": {},
   "outputs": [],
   "source": [
    "X_train,X_test,y_train,y_test=train_test_split(X,y,test_size=0.3)"
   ]
  },
  {
   "cell_type": "code",
   "execution_count": 10,
   "metadata": {},
   "outputs": [
    {
     "data": {
      "text/plain": [
       "array([[0, 1],\n",
       "       [8, 9],\n",
       "       [6, 7]])"
      ]
     },
     "execution_count": 10,
     "metadata": {},
     "output_type": "execute_result"
    }
   ],
   "source": [
    "X_train"
   ]
  },
  {
   "cell_type": "code",
   "execution_count": 11,
   "metadata": {},
   "outputs": [
    {
     "data": {
      "text/plain": [
       "[0, 4, 3]"
      ]
     },
     "execution_count": 11,
     "metadata": {},
     "output_type": "execute_result"
    }
   ],
   "source": [
    "y_train"
   ]
  },
  {
   "cell_type": "code",
   "execution_count": 12,
   "metadata": {},
   "outputs": [
    {
     "data": {
      "text/plain": [
       "array([[4, 5],\n",
       "       [2, 3]])"
      ]
     },
     "execution_count": 12,
     "metadata": {},
     "output_type": "execute_result"
    }
   ],
   "source": [
    "X_test"
   ]
  },
  {
   "cell_type": "code",
   "execution_count": 13,
   "metadata": {},
   "outputs": [
    {
     "data": {
      "text/plain": [
       "[2, 1]"
      ]
     },
     "execution_count": 13,
     "metadata": {},
     "output_type": "execute_result"
    }
   ],
   "source": [
    "y_test"
   ]
  },
  {
   "cell_type": "markdown",
   "metadata": {},
   "source": [
    "now that we have splt the data we can train/fit our model on the training data. \n",
    "\n",
    "this is done through the model.fit() method:"
   ]
  },
  {
   "cell_type": "code",
   "execution_count": 14,
   "metadata": {},
   "outputs": [
    {
     "data": {
      "text/plain": [
       "LinearRegression(copy_X=True, fit_intercept=True, n_jobs=None, normalize=True)"
      ]
     },
     "execution_count": 14,
     "metadata": {},
     "output_type": "execute_result"
    }
   ],
   "source": [
    "model.fit(X_train,y_train)"
   ]
  },
  {
   "cell_type": "markdown",
   "metadata": {},
   "source": [
    "* Now the model has been fit and trained on the training data.\n",
    "* The model is ready to predict labels our label or values on the test set! \n",
    "We get the predicted values using the predict method:"
   ]
  },
  {
   "cell_type": "code",
   "execution_count": 15,
   "metadata": {},
   "outputs": [],
   "source": [
    "predictions = model.predict(X_test)"
   ]
  },
  {
   "cell_type": "markdown",
   "metadata": {},
   "source": [
    "We can then evaluate our model by comparing our predictions to the correct values.\n",
    "\n",
    "the evaluation method depends on what sort of ML algorithm we are using (Regression, Classification, Clustering, etc.)\n",
    "\n",
    "Let's get a quick recap!\n",
    "\n",
    "Scikit-learn strives to have a uniform interface across all method and we'll see examples of these bellow.\n",
    "\n",
    "given a sciit-learn estimator object named model the following methods are availible. . .\n",
    "\n",
    "* Availible in ALL ESTIMATORS:\n",
    "    * model.fit() : fit training data.\n",
    "    * for supervised learning applications, this accepts two arguments: the data X and the labels y (e.g. mdeol.fit(X,y)).\n",
    "    * For unsupervised learning applications, this accepts only a single argument, the data X (e.g.model.fit(X)).\n",
    "    \n",
    "* Availible in supervised estimators:\n",
    "    * model.predict(): given a trained model, predict the label of a new set of data. this method accepts one arg, the new data X_new (e.g. model.predict(X_new)), and returns the learned label for each object in the array.\n",
    "    * model.predict_proba():For classification problems,some estimators also provde this method, which returns the probability that a new observation has each categorical label. in this case, the label with the highest probability is returned by model.predict(). \n",
    "    * model.score() : for classification or regression problems, most estimators implement a score method. Scores are between 0 and 1, with a larger score indicating a better fit. \n",
    "    \n",
    "* availible in unsupervised estimators\n",
    "    * model.predict() : predict labels in clustering algorithms. \n",
    "    * model.transform(): given an unsupervised model, transform new data into the new basis. This also accepts one argument X_new, and returns new representation of the data based on the unsupervised model. \n",
    "    * model.fit_transform() : some estimators implement this method, which more effectively performs a fit and transform on the same input data. \n",
    "    \n",
    "* How to choose and Algorithm \n",
    "    * Google scikit-learn algorithm cheat sheet. "
   ]
  },
  {
   "cell_type": "code",
   "execution_count": null,
   "metadata": {},
   "outputs": [],
   "source": []
  }
 ],
 "metadata": {
  "kernelspec": {
   "display_name": "Python 3",
   "language": "python",
   "name": "python3"
  },
  "language_info": {
   "codemirror_mode": {
    "name": "ipython",
    "version": 3
   },
   "file_extension": ".py",
   "mimetype": "text/x-python",
   "name": "python",
   "nbconvert_exporter": "python",
   "pygments_lexer": "ipython3",
   "version": "3.7.3"
  }
 },
 "nbformat": 4,
 "nbformat_minor": 2
}
