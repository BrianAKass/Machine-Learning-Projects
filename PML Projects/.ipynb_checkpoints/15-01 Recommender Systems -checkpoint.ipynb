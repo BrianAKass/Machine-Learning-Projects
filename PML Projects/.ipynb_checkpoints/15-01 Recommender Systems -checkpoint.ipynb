{
 "cells": [
  {
   "cell_type": "markdown",
   "metadata": {},
   "source": [
    "# Recommender Systems"
   ]
  },
  {
   "cell_type": "markdown",
   "metadata": {},
   "source": [
    "* In case you are further interested in Recommender Systems than what we cover in this course, I suggest you take a look at:\n",
    "    * Recommender Systems by Jannach and Zanker\n",
    "* It is a great textbook on this topic if you want to get a deeper understanding of recommender systems.\n",
    "\n",
    "* Fully developed and deployed recommendatio systems are extremely complex and resource intensive\n",
    "\n",
    "* We have two notebooks for this section of the course:\n",
    "    * Recommender Systems with Python\n",
    "    * Advaned Recommender Systems with Python\n",
    "* Since full recommender systems require a heavy linear algebra background the Advanced Recommender System notebook is provided as an optional resource\n",
    "\n",
    "* You should only take a look at this notebook if you feel comfortable with advanced linear algebra. \n",
    "\n",
    "* We'll show a simpler version of creating a recommendation system using item similarity for the project.\n",
    "\n",
    "The two most common types of recommender systems are $Content-Based$ and $Collaborative\\ Filtering\\ (CF)$.\n",
    "\n",
    "* Collaborative Filtering produces recommendation based on the knowledge of users' attitude towards tiems, that is it uses the \"wisdom of the crowd\" to recommend items.\n",
    "\n",
    "* Content-based recommender systems focus on the attributes of the items and give you recommendations based on the similarity between them. \n",
    "\n",
    "* In general, Collaborative filtering (CF) is more commonly used than content-based systems because it usually gives better results and is relatively easy to understand (from an overall implementation perspective).\n",
    "\n",
    "* The algorithm has the ability to do feature learning on it's own, which means that it can start to learn for itself what features to use. \n",
    "\n",
    "* CF can be divided into $Memory-Based\\ Collaborative\\ Filtering$ and $Model-Based\\ Collaborative\\ filtering.$\n",
    "\n",
    "* In the advanced notebook tutorial, we implement Model-Based CF by using singular value decomposition (SVD) and Memory-Based CF by computing cosine similarity. \n",
    "\n",
    "* for our implementation in Python, we will create a content based recommender system for a data set of movies.\n",
    "\n",
    "* this movie data set is usually a students first data set when beginning to learn about recommender systems. \n",
    "\n",
    "* It is quite large compared to some of the other data sets we've worked with, but in general, recommender systems in real life usually deal with much larger data sets than this one. \n",
    "\n",
    "* There won't be a full exercise with questions for this topic, instead you have the option to work though the advanced notebook if you feel like you have the necessary linear algebra background. "
   ]
  },
  {
   "cell_type": "code",
   "execution_count": null,
   "metadata": {},
   "outputs": [],
   "source": []
  }
 ],
 "metadata": {
  "kernelspec": {
   "display_name": "Python 3",
   "language": "python",
   "name": "python3"
  },
  "language_info": {
   "codemirror_mode": {
    "name": "ipython",
    "version": 3
   },
   "file_extension": ".py",
   "mimetype": "text/x-python",
   "name": "python",
   "nbconvert_exporter": "python",
   "pygments_lexer": "ipython3",
   "version": "3.7.3"
  }
 },
 "nbformat": 4,
 "nbformat_minor": 2
}
