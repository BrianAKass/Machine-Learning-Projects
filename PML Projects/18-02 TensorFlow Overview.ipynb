{
 "cells": [
  {
   "cell_type": "markdown",
   "metadata": {},
   "source": [
    "# TensorFlow Overview"
   ]
  },
  {
   "cell_type": "markdown",
   "metadata": {},
   "source": [
    "* TensorFlow is an open source software library developed by Google\n",
    "\n",
    "* Quickly become the most popular Deep Learning Library in the field. \n",
    "\n",
    "* Runs either CPU or GPU\n",
    "\n",
    "    * Typically, Deep Neural Networks run much faster on GPUs\n",
    "    \n",
    "---   \n",
    "\n",
    "* Basic idea of TensorFlow is to be able to create data flow graphs.\n",
    "\n",
    "* These graphs have nodes and edges, just as we saw in the previous lecture for Neural Networks\n",
    "\n",
    "* The arrays (data) passed along from layer of nodes to layer of nodes is known as a Tensor\n",
    "\n",
    "* There are two ways to use TensorFlow\n",
    "    \n",
    "    * Customizable Graph Session\n",
    "    \n",
    "    * SciKit-Learn type interface with Contrib.Learn\n",
    "\n",
    "* We will go over both, but keep in mind the Session method can feel very overwhelming if you don't have a strong background in the mathematics behind these topics. \n",
    "\n"
   ]
  }
 ],
 "metadata": {
  "kernelspec": {
   "display_name": "Python 3",
   "language": "python",
   "name": "python3"
  },
  "language_info": {
   "codemirror_mode": {
    "name": "ipython",
    "version": 3
   },
   "file_extension": ".py",
   "mimetype": "text/x-python",
   "name": "python",
   "nbconvert_exporter": "python",
   "pygments_lexer": "ipython3",
   "version": "3.7.3"
  }
 },
 "nbformat": 4,
 "nbformat_minor": 2
}
