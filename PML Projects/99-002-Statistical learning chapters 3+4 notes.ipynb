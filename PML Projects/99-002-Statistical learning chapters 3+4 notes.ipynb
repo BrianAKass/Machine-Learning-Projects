{
 "cells": [
  {
   "cell_type": "markdown",
   "metadata": {},
   "source": [
    "# Chapter 3 "
   ]
  },
  {
   "cell_type": "markdown",
   "metadata": {},
   "source": [
    "## Linear Regression\n",
    "\n",
    "* Linear regression is the simple approach to supervised learning. It assumes that the dependence of $Y$ on $X_1,X_2,...X_p$ is linear.\n",
    "\n",
    "* True regression functions are NEVER linear. (see video diagram https://www.youtube.com/watch?v=7TgVO_K75EY)\n",
    "\n",
    "* although it may seem overly simplistic, linear regression is extremely useful both conceptually and practically. "
   ]
  },
  {
   "cell_type": "markdown",
   "metadata": {},
   "source": [
    "## Linear regression for advertising data\n",
    "consider the advertising data shown on the next slide.\n",
    "Questions we might ask:\n",
    "* Is there a relationship between advertising budget and sales?\n",
    "* How strong is the relationship between advertising budget and sales?\n",
    "* which media contribute to sales?\n",
    "* How accurately can we predict future sales?\n",
    "* Is the relationship linear?\n",
    "* Is there synergy amoung the advertising media?\n"
   ]
  },
  {
   "cell_type": "markdown",
   "metadata": {},
   "source": [
    "# Simple Linear regression using a single predictor X.\n",
    "\n",
    "* We assume a model $Y=\\beta_0+\\beta_1 X+\\epsilon,$ Where $\\beta_0$ and $\\beta_1$ are two unknown constant that represent the intercept and slope also known as coefficients or parameters, and $\\epsilon$\n",
    "\n",
    "* Given some estimates $\\beta_0$ and $\\beta_1$ for the model coefficients, we predict future sales using$$\\hat{y}=\\hat{\\beta}_0 +\\hat{\\beta}_1x,$$ where $\\hat{y}$ indicates a prediction of $Y$ on the basis of $X=x$. The hat symbol denotes an estimated value.  \n"
   ]
  },
  {
   "cell_type": "markdown",
   "metadata": {},
   "source": [
    "## Estimation of the parameters by least squares\n",
    "* Let $\\hat{y}_i=\\hat{\\beta}_0+\\hat{\\beta}_1 x_i$ be the prediction for $Y$ based on the $i$th valueof $X$. then $e_i=y_i-\\hat{y}_i$ represents the $i$th residual.\n",
    "\n",
    "* we define the residual sum of squares (RSS) as $$RSS=e_{1}^{2}+e_{2}^{2}+....+e_{n}^{2},$$ or equivalently as $$RSS=(y_1-\\hat{\\beta}_0-\\hat{\\beta}_1 x_1)^2+(y_2-\\hat{\\beta}_0-\\hat{\\beta}_1 x_2)^2+...+(y_n-\\hat{\\beta}_0-\\hat{\\beta}_1 x_n)^2.$$\n",
    "\n",
    "\n",
    "* The least squares approach chooses $\\hat{\\beta}_0$ and $\\hat{\\beta}_1$ to minimize the RSS. the minimizing values can be shown to be $$\\hat{\\beta}_1 = \\frac{\\sum_{i=1(x_i-\\bar{x})(y_i-\\bar{y})}^{n}}{\\sum_{i=1(x_i-\\bar{x})^2}^{n}}$$, where $\\bar{y}\\equiv\\frac{1}{n}\\sum_{i=1^y_i}^{n}$ and $\\bar{x}\\equiv\\frac{1}{n}\\sum_{i=1^x_i}^{n}$ are the sample means. "
   ]
  },
  {
   "cell_type": "markdown",
   "metadata": {},
   "source": [
    "### Example: Advertising data (see slide)\n",
    "The least squares fit for the regression of sales onto TV. In this casea lnear fit captures the essence of the relationship, although it is somewhat deficient in the left of the plot. "
   ]
  },
  {
   "cell_type": "markdown",
   "metadata": {},
   "source": [
    "### Accessing the Accuracy of the Coefficient Estimates\n",
    "\n",
    "* The standard error $SE$ of an estimator reflects how it varies under repreated sampling. We have $$SE(\\hat{\\beta}_1)^2 = \\frac{\\sigma^2}{\\sum_{i=1^{(x_i-\\bar{x})^2}}^{n}} , SE(\\hat{\\beta}_0)^2 = \\sigma^2\\left[\\frac{\\bar{x}^2}{\\sum_{i=1^{(x_i-\\bar{x})^2}}^{n}}\\right]$$, Where $\\sigma^2 =Var(\\epsilon)$\n",
    "\n",
    "* these Standard error can be used to compute confidence intervals. a 95% confidence interval is defined as a range of values such that with 95% probability, the range will contain the true unknown value of the parameter. It has the form $$\\beta_1\\pm2\\cdot SE(\\hat{\\beta}_1).$$"
   ]
  },
  {
   "cell_type": "markdown",
   "metadata": {},
   "source": [
    "### Confidence intervals - continued\n",
    "\n",
    "That is, there is approximately a 95% chance that the interval $$\\left[\\hat{\\beta}_1-2 2\\cdot SE(\\hat{\\beta}_1) , \\hat{\\beta}_1+2 \\cdot SE(\\hat{\\beta}_1)\\right]$$ will contain the true value of $\\beta_1$ (under a scenario where we got repeated sample like the present sample)\n",
    "\n",
    "For advertising data, the  95% confidence interval for $\\beta_1$ is $[0.042,0.053].$"
   ]
  },
  {
   "cell_type": "markdown",
   "metadata": {},
   "source": []
  },
  {
   "cell_type": "markdown",
   "metadata": {},
   "source": []
  },
  {
   "cell_type": "markdown",
   "metadata": {},
   "source": []
  },
  {
   "cell_type": "markdown",
   "metadata": {},
   "source": []
  },
  {
   "cell_type": "markdown",
   "metadata": {},
   "source": []
  },
  {
   "cell_type": "markdown",
   "metadata": {},
   "source": []
  },
  {
   "cell_type": "markdown",
   "metadata": {},
   "source": []
  },
  {
   "cell_type": "markdown",
   "metadata": {},
   "source": []
  },
  {
   "cell_type": "markdown",
   "metadata": {},
   "source": []
  },
  {
   "cell_type": "markdown",
   "metadata": {},
   "source": []
  },
  {
   "cell_type": "markdown",
   "metadata": {},
   "source": []
  },
  {
   "cell_type": "markdown",
   "metadata": {},
   "source": []
  },
  {
   "cell_type": "markdown",
   "metadata": {},
   "source": []
  },
  {
   "cell_type": "markdown",
   "metadata": {},
   "source": []
  },
  {
   "cell_type": "markdown",
   "metadata": {},
   "source": []
  },
  {
   "cell_type": "markdown",
   "metadata": {},
   "source": []
  },
  {
   "cell_type": "markdown",
   "metadata": {},
   "source": []
  },
  {
   "cell_type": "markdown",
   "metadata": {},
   "source": []
  },
  {
   "cell_type": "markdown",
   "metadata": {},
   "source": []
  },
  {
   "cell_type": "markdown",
   "metadata": {},
   "source": []
  },
  {
   "cell_type": "markdown",
   "metadata": {},
   "source": []
  },
  {
   "cell_type": "markdown",
   "metadata": {},
   "source": []
  },
  {
   "cell_type": "markdown",
   "metadata": {},
   "source": []
  },
  {
   "cell_type": "markdown",
   "metadata": {},
   "source": []
  },
  {
   "cell_type": "markdown",
   "metadata": {},
   "source": []
  },
  {
   "cell_type": "markdown",
   "metadata": {},
   "source": []
  }
 ],
 "metadata": {
  "kernelspec": {
   "display_name": "Python 3",
   "language": "python",
   "name": "python3"
  },
  "language_info": {
   "codemirror_mode": {
    "name": "ipython",
    "version": 3
   },
   "file_extension": ".py",
   "mimetype": "text/x-python",
   "name": "python",
   "nbconvert_exporter": "python",
   "pygments_lexer": "ipython3",
   "version": "3.7.3"
  }
 },
 "nbformat": 4,
 "nbformat_minor": 2
}
