{
 "cells": [
  {
   "cell_type": "code",
   "execution_count": 1,
   "metadata": {},
   "outputs": [],
   "source": [
    "from sklearn.datasets import load_boston\n",
    "from sklearn.linear_model import LinearRegression\n",
    "from sklearn.metrics import mean_squared_error\n",
    "\n",
    "import pandas as pd\n",
    "import numpy as np"
   ]
  },
  {
   "cell_type": "code",
   "execution_count": 2,
   "metadata": {},
   "outputs": [],
   "source": [
    "# Gather Data\n",
    "\n",
    "boston_dataset = load_boston()\n",
    "data= pd.DataFrame(data=boston_dataset.data, columns = boston_dataset.feature_names)\n",
    "features = data.drop(['INDUS', 'AGE'], axis = 1)\n",
    "\n",
    "log_prices = np.log(boston_dataset.target)\n",
    "target = pd.DataFrame(log_prices, columns =['PRICE'])"
   ]
  },
  {
   "cell_type": "code",
   "execution_count": 3,
   "metadata": {},
   "outputs": [],
   "source": [
    "CRIME_IDX = 0\n",
    "ZN_IDX = 1\n",
    "CHAS_IDX = 2\n",
    "RM_IDX = 4\n",
    "PTRATIO_IDX = 8\n",
    "\n",
    "# property_stats = np.ndarray(shape=(1,11))\n",
    "# property_stats[0][CRIME_IDX] = features['CRIM'].mean()\n",
    "# property_stats[0][ZN_IDX] = features['ZN'].mean()\n",
    "# property_stats[0][CHAS_IDX] = features['CHAS'].mean()\n",
    "# property_stats[0][RM_IDX] = features['RM'].mean()\n",
    "# property_stats[0][PTRATIO_IDX] = features['PTRATIO'].mean()\n",
    "\n",
    "property_stats =features.mean().values.reshape(1,11)"
   ]
  },
  {
   "cell_type": "code",
   "execution_count": 4,
   "metadata": {},
   "outputs": [
    {
     "data": {
      "text/plain": [
       "array([[3.61352356e+00, 1.13636364e+01, 6.91699605e-02, 5.54695059e-01,\n",
       "        6.28463439e+00, 3.79504269e+00, 9.54940711e+00, 4.08237154e+02,\n",
       "        1.84555336e+01, 3.56674032e+02, 1.26530632e+01]])"
      ]
     },
     "execution_count": 4,
     "metadata": {},
     "output_type": "execute_result"
    }
   ],
   "source": [
    "property_stats"
   ]
  },
  {
   "cell_type": "code",
   "execution_count": 5,
   "metadata": {},
   "outputs": [],
   "source": [
    "regr = LinearRegression().fit(features, target)\n",
    "fitted_vals = regr.predict(features)\n",
    "\n",
    "# Calculating MSE \n",
    "MSE = mean_squared_error(target, fitted_vals)\n",
    "RMSE = np.sqrt(MSE)"
   ]
  },
  {
   "cell_type": "code",
   "execution_count": 16,
   "metadata": {},
   "outputs": [],
   "source": [
    "def get_log_estimate(nr_rooms,\n",
    "                     students_per_classroom,\n",
    "                     next_to_river=False,\n",
    "                     high_confidence=True):\n",
    "    #configure property\n",
    "    property_stats[0][RM_IDX] = nr_rooms\n",
    "    property_stats[0][PTRATIO_IDX] = students_per_classroom\n",
    "    \n",
    "    if next_to_river:\n",
    "        property_stats[0][CHAS_IDX] = 1\n",
    "    else:\n",
    "        property_stats[0][CHAS_IDX] = 0\n",
    "    \n",
    "    #make prediction\n",
    "    #log_estimate = round(regr.predict(property_stats)[0][0],2)\n",
    "    log_estimate = regr.predict(property_stats)[0][0]\n",
    "    \n",
    "    # calc range\n",
    "    if high_confidence:\n",
    "        upper_bound = log_estimate + 2*RMSE\n",
    "        lower_bound = log_estimate - 2*RMSE\n",
    "        interval = 95\n",
    "    else:\n",
    "        upper_bound = log_estimate + RMSE\n",
    "        lower_bound = log_estimate - RMSE\n",
    "        interval = 68\n",
    "    \n",
    "    return log_estimate, upper_bound, lower_bound, interval"
   ]
  },
  {
   "cell_type": "code",
   "execution_count": 34,
   "metadata": {},
   "outputs": [
    {
     "data": {
      "text/plain": [
       "(2.776758191480399, 2.9642703266775294, 2.589246056283269, 68)"
      ]
     },
     "execution_count": 34,
     "metadata": {},
     "output_type": "execute_result"
    }
   ],
   "source": [
    "get_log_estimate(3,20,next_to_river=True, high_confidence=False)"
   ]
  },
  {
   "cell_type": "code",
   "execution_count": 42,
   "metadata": {},
   "outputs": [
    {
     "data": {
      "text/plain": [
       "21.2"
      ]
     },
     "execution_count": 42,
     "metadata": {},
     "output_type": "execute_result"
    }
   ],
   "source": [
    "np.median(boston_dataset.target) "
   ]
  },
  {
   "cell_type": "code",
   "execution_count": 50,
   "metadata": {},
   "outputs": [
    {
     "name": "stdout",
     "output_type": "stream",
     "text": [
      "The estimated property value is $827000.0.\n",
      "At 68% confidence valuation range is\n",
      "USD 685000.0 at the lower end to USD, and 997000.0 at the high end.\n"
     ]
    }
   ],
   "source": [
    "#INFLATION ADJUSTMENT TIME\n",
    "ZILLOW_MEDIAN_PRICE = 583.3\n",
    "SCALE_FACTOR = ZILLOW_MEDIAN_PRICE / np.median(boston_dataset.target) \n",
    "\n",
    "log_est, upper, lower, conf = get_log_estimate(9, students_per_classroom=15,\n",
    "        next_to_river=False, high_confidence=False)\n",
    "\n",
    "#convert to todays dollars \n",
    "\n",
    "dollar_est =np.e**log_est * 1000 * SCALE_FACTOR\n",
    "dollar_hi =np.e**upper * 1000 * SCALE_FACTOR\n",
    "dollar_low =np.e**lower * 1000 * SCALE_FACTOR\n",
    "\n",
    "#round dollars to nearest 2 decimals\n",
    "rounded_est = round(dollar_est,-3)\n",
    "rounded_hi = round(dollar_hi,-3)\n",
    "rounded_low = round(dollar_low,-3)\n",
    "\n",
    "print(f'The estimated property value is ${rounded_est}.')\n",
    "print(f'At {conf}% confidence valuation range is')\n",
    "print(f'USD {rounded_low} at the lower end to USD, and {rounded_hi} at the high end.')"
   ]
  },
  {
   "cell_type": "code",
   "execution_count": 86,
   "metadata": {},
   "outputs": [],
   "source": [
    "def get_dollar_estimate(rm, ptratio, chas=False, large_range=True):\n",
    "    \"\"\" \n",
    "    Estimate price of a property in Boston \n",
    "    \n",
    "    Arguents: \n",
    "    rm = # of rooms\n",
    "    ptratio = number of students per teacher in school nearest home\n",
    "    chas = is near or next to charles river (True or False)\n",
    "    large_range = 'True' for 95% prediction interval, 'False' for 68% prediction interval\n",
    "    \"\"\"\n",
    "    \n",
    "    \n",
    "    if rm < 1 or rm > 20 or ptratio < 1 or ptratio > 196 :\n",
    "        print('Unrealistic paramaters. Try again.')\n",
    "        return\n",
    "    \n",
    "    log_est, upper, lower, conf = get_log_estimate(rm, \n",
    "            students_per_classroom = ptratio, next_to_river = chas, \n",
    "            high_confidence = large_range)\n",
    "\n",
    "    #convert to todays dollars \n",
    "    dollar_est =np.e**log_est * 1000 * SCALE_FACTOR\n",
    "    dollar_hi =np.e**upper * 1000 * SCALE_FACTOR\n",
    "    dollar_low =np.e**lower * 1000 * SCALE_FACTOR\n",
    "\n",
    "    #round dollars to nearest 2 decimals\n",
    "    rounded_est = round(dollar_est,-3)\n",
    "    rounded_hi = round(dollar_hi,-3)\n",
    "    rounded_low = round(dollar_low,-3)\n",
    "\n",
    "    print(f'The estimated property value is ${rounded_est}.')\n",
    "    print(f'At {conf}% confidence valuation range is')\n",
    "    print(f'USD {rounded_low} at the lower end to USD, and {rounded_hi} at the high end.')"
   ]
  },
  {
   "cell_type": "code",
   "execution_count": 84,
   "metadata": {},
   "outputs": [
    {
     "name": "stdout",
     "output_type": "stream",
     "text": [
      "The estimated property value is $751000.0.\n",
      "At 95% confidence valuation range is\n",
      "USD 516000.0 at the lower end to USD, and 1093000.0 at the high end.\n"
     ]
    }
   ],
   "source": [
    "get_dollar_estimate(1,1,True)"
   ]
  },
  {
   "cell_type": "code",
   "execution_count": 87,
   "metadata": {},
   "outputs": [
    {
     "name": "stdout",
     "output_type": "stream",
     "text": [
      "The estimated property value is $117000.0.\n",
      "At 95% confidence valuation range is\n",
      "USD 80000.0 at the lower end to USD, and 170000.0 at the high end.\n"
     ]
    }
   ],
   "source": [
    "import boston_valuation as val\n",
    "val.get_dollar_estimate(6,60)"
   ]
  },
  {
   "cell_type": "code",
   "execution_count": null,
   "metadata": {},
   "outputs": [],
   "source": []
  }
 ],
 "metadata": {
  "kernelspec": {
   "display_name": "Python 3",
   "language": "python",
   "name": "python3"
  },
  "language_info": {
   "codemirror_mode": {
    "name": "ipython",
    "version": 3
   },
   "file_extension": ".py",
   "mimetype": "text/x-python",
   "name": "python",
   "nbconvert_exporter": "python",
   "pygments_lexer": "ipython3",
   "version": "3.7.3"
  }
 },
 "nbformat": 4,
 "nbformat_minor": 2
}
