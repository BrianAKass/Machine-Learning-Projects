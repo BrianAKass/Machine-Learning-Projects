{
 "cells": [
  {
   "cell_type": "markdown",
   "metadata": {},
   "source": [
    "## Terms to rememeber:\n",
    "    \n",
    "**RDD** - Resiliant Distributed Dataset\n",
    "\n",
    "**Transformation** - Spark operation that produces an RDD\n",
    "\n",
    "**action** - Spark operation that produces a local object\n",
    "\n",
    "**Spark Job** - Sequence of transformations on data with a final action.\n",
    "\n",
    "## Creating an RDD \n",
    "\n",
    "Two common ways to create an RDD:\n",
    "\n",
    "**sc.parallelize(array)** - Create RDD of elements of an array (or list)\n",
    "\n",
    "**sc.textFile(path/to/file)** - Create RDD of lines from file\n",
    "\n",
    "\n",
    "## RDD Transformations\n",
    "\n",
    "We can use transformations to create a set of instructions we want to perform on the RDD (before we call an action and actually execute them). Below are transformation examples and their results:\n",
    "\n",
    "**filter(lambda x : x % 2 == 0)** - Discard non-even elements\n",
    "\n",
    "**map(lambda x : x * 2)** - Multiply each elemenet by 2.\n",
    "\n",
    "**map(lambda x : x.split())** - Split each string into words \n",
    "\n",
    "**flatmap(lambda x: x.split())** - Split each string into words and flatten sequence. \n",
    "\n",
    "**sample(withReplacement=True,0.25)** - Create Sample of 25% of elements with replacement. \n",
    "\n",
    "**union(rdd)** - append *rdd* to existing RDD\n",
    "\n",
    "**distinct()** - remove duplicates in RDD\n",
    "\n",
    "**sortBy(lambda x: x, ascending = False)** - Sort elements in descending order.\n",
    "\n",
    "\n",
    "## RDD Actions \n",
    "\n",
    "once we have your 'recipe' of transformations ready, what you will do next is execute them by calling an action. here are som common actions and their results:\n",
    "\n",
    "**collect()** - Convert RDD to in-memory list\n",
    "\n",
    "**take(3)** - First elements of RDD \n",
    "\n",
    "**top(3)** - top 3 elements of RDD\n",
    "\n",
    "**takeSample(withReplacement=True,3)** - Create sample of 3 elelemnts with replacement. \n",
    "\n",
    "**sum()** - Find element sum (assumes numeric elements)\n",
    "\n",
    "**mean()** - Find element mean (assumes numeric elements)\n",
    "\n",
    "**stdev()** - Find element deviation (assumes numeric elements)"
   ]
  },
  {
   "cell_type": "code",
   "execution_count": 2,
   "metadata": {},
   "outputs": [
    {
     "data": {
      "text/plain": [
       "[1, 2, 3, 4]"
      ]
     },
     "execution_count": 2,
     "metadata": {},
     "output_type": "execute_result"
    }
   ],
   "source": [
    "x = [1,2,3,4]\n",
    "x"
   ]
  },
  {
   "cell_type": "code",
   "execution_count": 3,
   "metadata": {},
   "outputs": [
    {
     "data": {
      "text/plain": [
       "[2, 3, 4]"
      ]
     },
     "execution_count": 3,
     "metadata": {},
     "output_type": "execute_result"
    }
   ],
   "source": [
    "x[1:]"
   ]
  },
  {
   "cell_type": "code",
   "execution_count": 14,
   "metadata": {},
   "outputs": [
    {
     "data": {
      "text/plain": [
       "[1, 2]"
      ]
     },
     "execution_count": 14,
     "metadata": {},
     "output_type": "execute_result"
    }
   ],
   "source": [
    "x[:2]"
   ]
  },
  {
   "cell_type": "code",
   "execution_count": null,
   "metadata": {},
   "outputs": [],
   "source": []
  }
 ],
 "metadata": {
  "kernelspec": {
   "display_name": "Python 3",
   "language": "python",
   "name": "python3"
  },
  "language_info": {
   "codemirror_mode": {
    "name": "ipython",
    "version": 3
   },
   "file_extension": ".py",
   "mimetype": "text/x-python",
   "name": "python",
   "nbconvert_exporter": "python",
   "pygments_lexer": "ipython3",
   "version": "3.7.3"
  }
 },
 "nbformat": 4,
 "nbformat_minor": 2
}
